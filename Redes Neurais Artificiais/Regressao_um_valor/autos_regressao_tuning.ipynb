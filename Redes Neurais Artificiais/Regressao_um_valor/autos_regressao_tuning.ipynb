{
 "cells": [
  {
   "cell_type": "code",
   "execution_count": 1,
   "metadata": {},
   "outputs": [
    {
     "name": "stderr",
     "output_type": "stream",
     "text": [
      "Using TensorFlow backend.\n"
     ]
    }
   ],
   "source": [
    "import pandas as pd\n",
    "import keras\n",
    "from keras.models import Sequential\n",
    "from keras.layers import Dense, Dropout\n",
    "from keras.wrappers.scikit_learn import KerasClassifier\n",
    "from sklearn.model_selection import GridSearchCV\n",
    "from sklearn.preprocessing import LabelEncoder, OneHotEncoder\n",
    "from sklearn.compose import ColumnTransformer\n",
    "from sklearn.model_selection import cross_val_score\n",
    "from keras.wrappers.scikit_learn import KerasRegressor"
   ]
  },
  {
   "cell_type": "code",
   "execution_count": 2,
   "metadata": {},
   "outputs": [
    {
     "name": "stdout",
     "output_type": "stream",
     "text": [
      "                dateCrawled                                          name  \\\n",
      "0       2016-03-24 11:52:17                                    Golf_3_1.6   \n",
      "1       2016-03-24 10:58:45                          A5_Sportback_2.7_Tdi   \n",
      "2       2016-03-14 12:52:21                Jeep_Grand_Cherokee_\"Overland\"   \n",
      "3       2016-03-17 16:54:04                            GOLF_4_1_4__3TÜRER   \n",
      "4       2016-03-31 17:25:20                Skoda_Fabia_1.4_TDI_PD_Classic   \n",
      "...                     ...                                           ...   \n",
      "371523  2016-03-14 17:48:27                    Suche_t4___vito_ab_6_sitze   \n",
      "371524  2016-03-05 19:56:21         Smart_smart_leistungssteigerung_100ps   \n",
      "371525  2016-03-19 18:57:12            Volkswagen_Multivan_T4_TDI_7DC_UY2   \n",
      "371526  2016-03-20 19:41:08                        VW_Golf_Kombi_1_9l_TDI   \n",
      "371527  2016-03-07 19:39:19  BMW_M135i_vollausgestattet_NP_52.720____Euro   \n",
      "\n",
      "        seller offerType  price   abtest vehicleType  yearOfRegistration  \\\n",
      "0       privat   Angebot    480     test         NaN                1993   \n",
      "1       privat   Angebot  18300     test       coupe                2011   \n",
      "2       privat   Angebot   9800     test         suv                2004   \n",
      "3       privat   Angebot   1500     test  kleinwagen                2001   \n",
      "4       privat   Angebot   3600     test  kleinwagen                2008   \n",
      "...        ...       ...    ...      ...         ...                 ...   \n",
      "371523  privat   Angebot   2200     test         NaN                2005   \n",
      "371524  privat   Angebot   1199     test      cabrio                2000   \n",
      "371525  privat   Angebot   9200     test         bus                1996   \n",
      "371526  privat   Angebot   3400     test       kombi                2002   \n",
      "371527  privat   Angebot  28990  control   limousine                2013   \n",
      "\n",
      "          gearbox  powerPS        model  kilometer  monthOfRegistration  \\\n",
      "0         manuell        0         golf     150000                    0   \n",
      "1         manuell      190          NaN     125000                    5   \n",
      "2       automatik      163        grand     125000                    8   \n",
      "3         manuell       75         golf     150000                    6   \n",
      "4         manuell       69        fabia      90000                    7   \n",
      "...           ...      ...          ...        ...                  ...   \n",
      "371523        NaN        0          NaN      20000                    1   \n",
      "371524  automatik      101       fortwo     125000                    3   \n",
      "371525    manuell      102  transporter     150000                    3   \n",
      "371526    manuell      100         golf     150000                    6   \n",
      "371527    manuell      320      m_reihe      50000                    8   \n",
      "\n",
      "       fuelType           brand notRepairedDamage          dateCreated  \\\n",
      "0        benzin      volkswagen               NaN  2016-03-24 00:00:00   \n",
      "1        diesel            audi                ja  2016-03-24 00:00:00   \n",
      "2        diesel            jeep               NaN  2016-03-14 00:00:00   \n",
      "3        benzin      volkswagen              nein  2016-03-17 00:00:00   \n",
      "4        diesel           skoda              nein  2016-03-31 00:00:00   \n",
      "...         ...             ...               ...                  ...   \n",
      "371523      NaN  sonstige_autos               NaN  2016-03-14 00:00:00   \n",
      "371524   benzin           smart              nein  2016-03-05 00:00:00   \n",
      "371525   diesel      volkswagen              nein  2016-03-19 00:00:00   \n",
      "371526   diesel      volkswagen               NaN  2016-03-20 00:00:00   \n",
      "371527   benzin             bmw              nein  2016-03-07 00:00:00   \n",
      "\n",
      "        nrOfPictures  postalCode             lastSeen  \n",
      "0                  0       70435  2016-04-07 03:16:57  \n",
      "1                  0       66954  2016-04-07 01:46:50  \n",
      "2                  0       90480  2016-04-05 12:47:46  \n",
      "3                  0       91074  2016-03-17 17:40:17  \n",
      "4                  0       60437  2016-04-06 10:17:21  \n",
      "...              ...         ...                  ...  \n",
      "371523             0       39576  2016-04-06 00:46:52  \n",
      "371524             0       26135  2016-03-11 18:17:12  \n",
      "371525             0       87439  2016-04-07 07:15:26  \n",
      "371526             0       40764  2016-03-24 12:45:21  \n",
      "371527             0       73326  2016-03-22 03:17:10  \n",
      "\n",
      "[371528 rows x 20 columns]\n"
     ]
    }
   ],
   "source": [
    "base = pd.read_csv('/home/igorbaio/Documentos/DeepLearningA-Z/Base_de_Dados/autos.csv', encoding = 'ISO-8859-1')\n",
    "print(base)"
   ]
  },
  {
   "cell_type": "code",
   "execution_count": 3,
   "metadata": {},
   "outputs": [],
   "source": [
    "base = base.drop('dateCrawled', axis = 1)\n",
    "base = base.drop('dateCreated', axis = 1)\n",
    "base = base.drop('nrOfPictures', axis = 1)\n",
    "base = base.drop('postalCode', axis = 1)\n",
    "base = base.drop('lastSeen', axis = 1)"
   ]
  },
  {
   "cell_type": "code",
   "execution_count": 4,
   "metadata": {},
   "outputs": [
    {
     "name": "stdout",
     "output_type": "stream",
     "text": [
      "Ford_Fiesta                                              657\n",
      "BMW_318i                                                 627\n",
      "Opel_Corsa                                               622\n",
      "Volkswagen_Golf_1.4                                      603\n",
      "BMW_316i                                                 523\n",
      "                                                        ... \n",
      "Citroën_C1_1.0_**Euro4**TÜV_OKT_2017**Scheitenschaden      1\n",
      "Volkswagen_TÜV_09_2017                                     1\n",
      "Opel_Corsa_C_1.2_mit_Tuev_bis_03.2018                      1\n",
      "Porsche_911_Carrera_Typ_996_Austauschmotor_36000_km        1\n",
      "BMW_Z3_2.8_Roadster_VFL___Top__Zustand__!!!!!!!            1\n",
      "Name: name, Length: 233531, dtype: int64\n"
     ]
    }
   ],
   "source": [
    "print(base['name'].value_counts())"
   ]
  },
  {
   "cell_type": "code",
   "execution_count": 5,
   "metadata": {},
   "outputs": [],
   "source": [
    "base = base.drop('name', axis = 1)"
   ]
  },
  {
   "cell_type": "code",
   "execution_count": 6,
   "metadata": {},
   "outputs": [
    {
     "name": "stdout",
     "output_type": "stream",
     "text": [
      "privat        371525\n",
      "gewerblich         3\n",
      "Name: seller, dtype: int64\n"
     ]
    }
   ],
   "source": [
    "print(base['seller'].value_counts())"
   ]
  },
  {
   "cell_type": "code",
   "execution_count": 7,
   "metadata": {},
   "outputs": [],
   "source": [
    "base = base.drop('seller', axis = 1)"
   ]
  },
  {
   "cell_type": "code",
   "execution_count": 8,
   "metadata": {},
   "outputs": [
    {
     "name": "stdout",
     "output_type": "stream",
     "text": [
      "Angebot    371516\n",
      "Gesuch         12\n",
      "Name: offerType, dtype: int64\n"
     ]
    }
   ],
   "source": [
    "print(base['offerType'].value_counts())"
   ]
  },
  {
   "cell_type": "code",
   "execution_count": 9,
   "metadata": {},
   "outputs": [],
   "source": [
    "base = base.drop('offerType', axis = 1)"
   ]
  },
  {
   "cell_type": "code",
   "execution_count": 11,
   "metadata": {},
   "outputs": [
    {
     "name": "stdout",
     "output_type": "stream",
     "text": [
      "Index(['price', 'abtest', 'vehicleType', 'yearOfRegistration', 'gearbox',\n",
      "       'powerPS', 'model', 'kilometer', 'monthOfRegistration', 'fuelType',\n",
      "       'brand', 'notRepairedDamage'],\n",
      "      dtype='object')\n",
      "price                  371528\n",
      "abtest                 371528\n",
      "vehicleType            333659\n",
      "yearOfRegistration     371528\n",
      "gearbox                351319\n",
      "powerPS                371528\n",
      "model                  351044\n",
      "kilometer              371528\n",
      "monthOfRegistration    371528\n",
      "fuelType               338142\n",
      "brand                  371528\n",
      "notRepairedDamage      299468\n",
      "dtype: int64\n"
     ]
    }
   ],
   "source": [
    "print(base.columns)\n",
    "print(len(base))"
   ]
  },
  {
   "cell_type": "code",
   "execution_count": 12,
   "metadata": {},
   "outputs": [
    {
     "name": "stdout",
     "output_type": "stream",
     "text": [
      "        price   abtest vehicleType  yearOfRegistration  gearbox  powerPS  \\\n",
      "7           0     test   limousine                1980  manuell       50   \n",
      "40          0     test         NaN                1990      NaN        0   \n",
      "60          1  control         suv                1994  manuell      286   \n",
      "91          1  control   limousine                1995  manuell      113   \n",
      "115         0     test         NaN                2017  manuell        0   \n",
      "...       ...      ...         ...                 ...      ...      ...   \n",
      "371356      0  control         NaN                2000  manuell       65   \n",
      "371392      0     test  kleinwagen                2002  manuell       60   \n",
      "371402      0  control  kleinwagen                1999  manuell       53   \n",
      "371431      0  control  kleinwagen                1999  manuell       37   \n",
      "371522      0  control         NaN                2005  manuell        0   \n",
      "\n",
      "           model  kilometer  monthOfRegistration fuelType           brand  \\\n",
      "7         andere      40000                    7   benzin      volkswagen   \n",
      "40         corsa     150000                    1   benzin            opel   \n",
      "60           NaN     150000                   11      NaN  sonstige_autos   \n",
      "91      e_klasse     150000                    4   diesel   mercedes_benz   \n",
      "115         golf       5000                   12   benzin      volkswagen   \n",
      "...          ...        ...                  ...      ...             ...   \n",
      "371356     corsa     150000                    0      NaN            opel   \n",
      "371392    fiesta     150000                    3   benzin            ford   \n",
      "371402     swift     150000                    3   benzin          suzuki   \n",
      "371431     arosa     150000                    7   benzin            seat   \n",
      "371522      colt     150000                    7   benzin      mitsubishi   \n",
      "\n",
      "       notRepairedDamage  \n",
      "7                   nein  \n",
      "40                   NaN  \n",
      "60                   NaN  \n",
      "91                  nein  \n",
      "115                  NaN  \n",
      "...                  ...  \n",
      "371356                ja  \n",
      "371392               NaN  \n",
      "371402               NaN  \n",
      "371431                ja  \n",
      "371522                ja  \n",
      "\n",
      "[12118 rows x 12 columns]\n"
     ]
    }
   ],
   "source": [
    "#Pre-processamento de valores inconsistentes\n",
    "i1 = base.loc[base.price <= 10]\n",
    "print(i1)"
   ]
  },
  {
   "cell_type": "code",
   "execution_count": 14,
   "metadata": {},
   "outputs": [
    {
     "name": "stdout",
     "output_type": "stream",
     "text": [
      "359410\n"
     ]
    }
   ],
   "source": [
    "base = base[base.price > 10]\n",
    "print(len(base))"
   ]
  },
  {
   "cell_type": "code",
   "execution_count": 15,
   "metadata": {},
   "outputs": [
    {
     "name": "stdout",
     "output_type": "stream",
     "text": [
      "           price   abtest vehicleType  yearOfRegistration  gearbox  powerPS  \\\n",
      "1846      579000  control       coupe                1980  manuell      277   \n",
      "10649     420000  control       coupe                2004  manuell      483   \n",
      "14663   11111111  control       coupe                2003  manuell       64   \n",
      "16889    1000000  control       kombi                1998      NaN        0   \n",
      "20143    1250000     test       coupe                2016  manuell      500   \n",
      "...          ...      ...         ...                 ...      ...      ...   \n",
      "364171   3890000     test       coupe                2006      NaN      799   \n",
      "365461    599000  control       coupe                1980  manuell      377   \n",
      "366653  99999999  control      cabrio                1996  manuell      192   \n",
      "366861   3895000     test       coupe                2006      NaN      799   \n",
      "367041   1600000     test       coupe                2005      NaN      625   \n",
      "\n",
      "         model  kilometer  monthOfRegistration fuelType           brand  \\\n",
      "1846    andere      20000                   12   benzin             bmw   \n",
      "10649      911      50000                    4   benzin         porsche   \n",
      "14663     polo     150000                    2   benzin      volkswagen   \n",
      "16889   mondeo     150000                    0   benzin            ford   \n",
      "20143      911       5000                    3   benzin         porsche   \n",
      "...        ...        ...                  ...      ...             ...   \n",
      "364171     NaN       5000                    7      NaN  sonstige_autos   \n",
      "365461  andere       5000                    3   benzin             bmw   \n",
      "366653     3er     150000                    0      NaN             bmw   \n",
      "366861     NaN       5000                    4   benzin  sonstige_autos   \n",
      "367041     NaN      10000                    4   benzin  sonstige_autos   \n",
      "\n",
      "       notRepairedDamage  \n",
      "1846                nein  \n",
      "10649               nein  \n",
      "14663                NaN  \n",
      "16889                 ja  \n",
      "20143               nein  \n",
      "...                  ...  \n",
      "364171              nein  \n",
      "365461              nein  \n",
      "366653               NaN  \n",
      "366861              nein  \n",
      "367041              nein  \n",
      "\n",
      "[115 rows x 12 columns]\n"
     ]
    }
   ],
   "source": [
    "i2 = base.loc[base.price > 350000]\n",
    "print(i2)"
   ]
  },
  {
   "cell_type": "code",
   "execution_count": 16,
   "metadata": {},
   "outputs": [
    {
     "name": "stdout",
     "output_type": "stream",
     "text": [
      "359291\n"
     ]
    }
   ],
   "source": [
    "base = base.loc[base.price < 350000]\n",
    "print(len(base))"
   ]
  },
  {
   "cell_type": "code",
   "execution_count": null,
   "metadata": {},
   "outputs": [],
   "source": [
    "#Pre-processamento de valores faltantes\n",
    "print(base.loc[pd.isnull(base['vehicleType'])])"
   ]
  }
 ],
 "metadata": {
  "kernelspec": {
   "display_name": "Python 3",
   "language": "python",
   "name": "python3"
  },
  "language_info": {
   "codemirror_mode": {
    "name": "ipython",
    "version": 3
   },
   "file_extension": ".py",
   "mimetype": "text/x-python",
   "name": "python",
   "nbconvert_exporter": "python",
   "pygments_lexer": "ipython3",
   "version": "3.7.6"
  }
 },
 "nbformat": 4,
 "nbformat_minor": 4
}
